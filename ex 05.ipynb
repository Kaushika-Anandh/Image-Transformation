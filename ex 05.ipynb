{
 "cells": [
  {
   "cell_type": "code",
   "execution_count": 1,
   "id": "133c713c",
   "metadata": {},
   "outputs": [],
   "source": [
    "import numpy as np\n",
    "import cv2"
   ]
  },
  {
   "cell_type": "code",
   "execution_count": null,
   "id": "a75f470b",
   "metadata": {},
   "outputs": [],
   "source": [
    "in_img=cv2.imread(\"mikasa.jpg\",1)\n",
    "\n",
    "#getting rows,columns,hues(if any)\n",
    "rows,cols,dim=in_img.shape\n",
    "\n",
    "#image translation\n",
    "m=np.float32([[1,0,150],[0,1,100],[0,0,1]])\n",
    "trans_img=cv2.warpPerspective(in_img,m,(cols,rows))\n",
    "\n",
    "cv2.imshow(\"original image\",in_img)\n",
    "cv2.imshow(\"translated image\",trans_img)\n",
    "cv2.waitKey(0)\n",
    "cv2.destroyAllWindows()"
   ]
  },
  {
   "cell_type": "code",
   "execution_count": 23,
   "id": "f7d899cb",
   "metadata": {},
   "outputs": [],
   "source": [
    "m=np.float32([[1.5,0,0],[0,1.8,0],[0,0,1]])\n",
    "scale_img=cv2.warpPerspective(in_img,m,(cols,rows))\n",
    "\n",
    "cv2.imshow(\"original image\",in_img)\n",
    "cv2.imshow(\"scaled image\",scale_img)\n",
    "cv2.waitKey(0)\n",
    "cv2.destroyAllWindows()"
   ]
  },
  {
   "cell_type": "code",
   "execution_count": 26,
   "id": "f674a2bf",
   "metadata": {},
   "outputs": [],
   "source": [
    "m_x=np.float32([[1,0.2,0],[0,1,0],[0,0,1]])\n",
    "m_y=np.float32([[1,0,0],[0.4,1,0],[0,0,1]])\n",
    "\n",
    "sheared_img_x=cv2.warpPerspective(in_img,m_x,(cols,rows))\n",
    "sheared_img_y=cv2.warpPerspective(in_img,m_y,(cols,rows))\n",
    "\n",
    "cv2.imshow(\"original image\",in_img)\n",
    "cv2.imshow(\"sheared img x-axis\",sheared_img_x)\n",
    "cv2.imshow(\"sheared img y-axis\",sheared_img_y)\n",
    "cv2.waitKey(0)\n",
    "cv2.destroyAllWindows()"
   ]
  },
  {
   "cell_type": "code",
   "execution_count": 2,
   "id": "e3516e9f",
   "metadata": {},
   "outputs": [],
   "source": [
    "in2_img=cv2.imread(\"maki.jpg\",1)\n",
    "rows2,cols2,dim2=in2_img.shape\n",
    "\n",
    "m_x=np.float32([[1,0,0],[0,-1,rows2],[0,0,1]])\n",
    "m_y=np.float32([[-1,0,cols2],[0,1,0],[0,0,1]])\n",
    "reflected_img_x=cv2.warpPerspective(in2_img,m_x,(cols2,rows2))\n",
    "reflected_img_y=cv2.warpPerspective(in2_img,m_y,(cols2,rows2))\n",
    "\n",
    "cv2.imshow(\"original image\",in2_img)\n",
    "cv2.imshow(\"reflected img x-axis\",reflected_img_x)\n",
    "cv2.imshow(\"reflected img y-axis\",reflected_img_y)\n",
    "cv2.waitKey(0)\n",
    "cv2.destroyAllWindows()"
   ]
  },
  {
   "cell_type": "code",
   "execution_count": 4,
   "id": "ddb0923b",
   "metadata": {},
   "outputs": [],
   "source": [
    "angle=np.radians(45)\n",
    "m=np.float32([[np.cos(angle),-(np.sin(angle)),0],\n",
    "              [np.sin(angle),np.cos(angle),0],\n",
    "              [0,0,1]])\n",
    "rotated_img=cv2.warpPerspective(in2_img,m,(cols2,rows2))\n",
    "\n",
    "cv2.imshow(\"original image\",in2_img)\n",
    "cv2.imshow(\"rotated image\",rotated_img)\n",
    "cv2.waitKey(0)\n",
    "cv2.destroyAllWindows()"
   ]
  },
  {
   "cell_type": "code",
   "execution_count": 6,
   "id": "3e4e7ef8",
   "metadata": {},
   "outputs": [],
   "source": [
    "crop_img=in2_img[100:400,100:300]\n",
    "\n",
    "cv2.imshow(\"original image\",in2_img)\n",
    "cv2.imshow(\"cropped image\",crop_img)\n",
    "cv2.waitKey(0)\n",
    "cv2.destroyAllWindows()"
   ]
  }
 ],
 "metadata": {
  "kernelspec": {
   "display_name": "Python 3 (ipykernel)",
   "language": "python",
   "name": "python3"
  },
  "language_info": {
   "codemirror_mode": {
    "name": "ipython",
    "version": 3
   },
   "file_extension": ".py",
   "mimetype": "text/x-python",
   "name": "python",
   "nbconvert_exporter": "python",
   "pygments_lexer": "ipython3",
   "version": "3.9.13"
  }
 },
 "nbformat": 4,
 "nbformat_minor": 5
}
